{
 "cells": [
  {
   "cell_type": "code",
   "execution_count": 2,
   "metadata": {},
   "outputs": [],
   "source": [
    "#Import necessary Libraries\n",
    "import json\n",
    "import tiktoken # for token counting\n",
    "import numpy as np\n",
    "from collections import defaultdict"
   ]
  },
  {
   "cell_type": "markdown",
   "metadata": {},
   "source": [
    "### Preparing Dataset"
   ]
  },
  {
   "cell_type": "code",
   "execution_count": null,
   "metadata": {},
   "outputs": [],
   "source": [
    "# Let's try loading the newly uploaded Excel file and inspecting its contents.\n",
    "new_file_path_excel = '/mnt/data/[CR] Human Annotation.xlsx'\n",
    "df_new = pd.read_excel(new_file_path_excel)\n",
    "\n",
    "# Display the first few rows to understand its structure\n",
    "df_new.head()"
   ]
  },
  {
   "cell_type": "code",
   "execution_count": null,
   "metadata": {},
   "outputs": [],
   "source": [
    "# Now that we have the data loaded properly, let's randomly select 50 rows.\n",
    "random_50 = df_new.sample(n=50, random_state=42)\n",
    "\n",
    "# Save the selected rows to a new Excel file\n",
    "output_file_path = '/mnt/data/random_50_rows.xlsx'\n",
    "random_50.to_excel(output_file_path, index=False)\n",
    "\n",
    "output_file_path"
   ]
  },
  {
   "cell_type": "markdown",
   "metadata": {},
   "source": [
    "### Prompt + JSONL"
   ]
  },
  {
   "cell_type": "code",
   "execution_count": 3,
   "metadata": {},
   "outputs": [
    {
     "ename": "NameError",
     "evalue": "name 'filtered_random_50' is not defined",
     "output_type": "error",
     "traceback": [
      "\u001b[0;31m---------------------------------------------------------------------------\u001b[0m",
      "\u001b[0;31mNameError\u001b[0m                                 Traceback (most recent call last)",
      "Cell \u001b[0;32mIn[3], line 18\u001b[0m\n\u001b[1;32m      2\u001b[0m jsonl_data_detailed \u001b[38;5;241m=\u001b[39m []\n\u001b[1;32m      4\u001b[0m system_message \u001b[38;5;241m=\u001b[39m (\n\u001b[1;32m      5\u001b[0m     \u001b[38;5;124m\"\u001b[39m\u001b[38;5;124mYou are an AI expert in Company reviews. You are asked to classify unlabeled sentences for 6 company labels. \u001b[39m\u001b[38;5;124m\"\u001b[39m\n\u001b[1;32m      6\u001b[0m     \u001b[38;5;124m\"\u001b[39m\u001b[38;5;124mA text is classified into a company review category if the author is expressing the category in the text. \u001b[39m\u001b[38;5;124m\"\u001b[39m\n\u001b[0;32m   (...)\u001b[0m\n\u001b[1;32m     15\u001b[0m     \u001b[38;5;124m\"\u001b[39m\u001b[38;5;124mMake sure you answer the label among the predefined 6 company review categories.\u001b[39m\u001b[38;5;124m\"\u001b[39m\n\u001b[1;32m     16\u001b[0m )\n\u001b[0;32m---> 18\u001b[0m \u001b[38;5;28;01mfor\u001b[39;00m index, row \u001b[38;5;129;01min\u001b[39;00m filtered_random_50\u001b[38;5;241m.\u001b[39miterrows():\n\u001b[1;32m     19\u001b[0m     labels \u001b[38;5;241m=\u001b[39m []\n\u001b[1;32m     20\u001b[0m     \u001b[38;5;28;01mif\u001b[39;00m pd\u001b[38;5;241m.\u001b[39mnotna(row[\u001b[38;5;124m'\u001b[39m\u001b[38;5;124m성장 가능성 및 비전\u001b[39m\u001b[38;5;124m'\u001b[39m]):\n",
      "\u001b[0;31mNameError\u001b[0m: name 'filtered_random_50' is not defined"
     ]
    }
   ],
   "source": [
    "# Prepare the data for JSONL format with the requested detailed system message\n",
    "jsonl_data_detailed = []\n",
    "\n",
    "system_message = (\n",
    "    \"You are an AI expert in Company reviews. You are asked to classify unlabeled sentences for 6 company labels. \"\n",
    "    \"A text is classified into a company review category if the author is expressing the category in the text. \"\n",
    "    \"‘Company Review’ is divided into six categories, as follows: \\n\\n\"\n",
    "    \"1. 성장 가능성 및 비전 : 회사의 장기적인 성장 가능성, 사업 확장, 업계 내 경쟁력, 비전, 기업의 미래 방향성, 개인의 성장가능성과 \\n\"\n",
    "    \"2. 복지 및 급여: 직원들에게 제공되는 급여 수준, 보너스, 연봉 인상, 복지 혜택, 건강 보험, 연차 휴가, 사내교육 \\n\"\n",
    "    \"3. 근무 환경과 WLB : 근무 환경, 일과 삶의 균형, 업무 강도, 근무 시간, 재택근무 가능성, 휴식 시간, 사무실 시설, 근무지 위치, 조직 간 이동, 피로감 \\n\"\n",
    "    \"4. 사내문화: 회사 내 분위기, 사내정치(라인), 일하는 방식, 직원들 간의 관계, 소통 방식, 협업 방식, 연차 자유롭게 쓰는 분위기, 수평적, 수직적, 보고 문서 작업, 고용유지(엘무원)-제도 \\n\"\n",
    "    \"5. 경영진(리더십): 보상/성과평가, 인사 정책, 의사결정 방식, 경영 전략, 직원들에 대한 배려, 신입사원 채용, 직급/체계, 진급누락 적절한 타이밍: 경영진이 적재적소에 조직 구성을 해야하기 때문, 고용유지(엘무원)-제도\\n\"\n",
    "    \"6. 기타 : 위에 것에 해당하지 않는 텍스트\\n\\n\"\n",
    "    \"I will give you a sentence and you will classify it into one or more of the company review categories. \"\n",
    "    \"Make sure you answer the label among the predefined 6 company review categories.\"\n",
    ")\n",
    "\n",
    "for index, row in filtered_random_50.iterrows():\n",
    "    labels = []\n",
    "    if pd.notna(row['성장 가능성 및 비전']):\n",
    "        labels.append(\"성장 가능성 및 비전\")\n",
    "    if pd.notna(row['복지 및 급여']):\n",
    "        labels.append(\"복지 및 급여\")\n",
    "    if pd.notna(row['근무 환경과 WLB']):\n",
    "        labels.append(\"근무 환경과 WLB\")\n",
    "    if pd.notna(row['사내문화']):\n",
    "        labels.append(\"사내문화\")\n",
    "    if pd.notna(row['경영진']):\n",
    "        labels.append(\"경영진\")\n",
    "    if pd.notna(row['기타']):\n",
    "        labels.append(\"기타\")\n",
    "    \n",
    "    jsonl_data_detailed.append({\n",
    "        \"messages\": [\n",
    "            {\"role\": \"system\", \"content\": system_message},\n",
    "            {\"role\": \"user\", \"content\": row['텍스트']},\n",
    "            {\"role\": \"assistant\", \"content\": \", \".join(labels)}\n",
    "        ]\n",
    "    })\n",
    "\n",
    "# Save to a JSONL file\n",
    "jsonl_file_path_detailed = '/mnt/data/company_reviews_detailed_dataset.jsonl'\n",
    "with open(jsonl_file_path_detailed, 'w', encoding='utf-8') as f:\n",
    "    for entry in jsonl_data_detailed:\n",
    "        json.dump(entry, f, ensure_ascii=False)\n",
    "        f.write('\\n')\n",
    "\n",
    "jsonl_file_path_detailed"
   ]
  },
  {
   "cell_type": "code",
   "execution_count": null,
   "metadata": {},
   "outputs": [],
   "source": []
  }
 ],
 "metadata": {
  "kernelspec": {
   "display_name": "base",
   "language": "python",
   "name": "python3"
  },
  "language_info": {
   "codemirror_mode": {
    "name": "ipython",
    "version": 3
   },
   "file_extension": ".py",
   "mimetype": "text/x-python",
   "name": "python",
   "nbconvert_exporter": "python",
   "pygments_lexer": "ipython3",
   "version": "3.11.4"
  }
 },
 "nbformat": 4,
 "nbformat_minor": 2
}
